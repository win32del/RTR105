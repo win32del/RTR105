{
 "cells": [
  {
   "cell_type": "markdown",
   "metadata": {},
   "source": [
    "Dotā funkcija = $e^{-x}^{2}$\n",
    "\n",
    "Importē eksponentes aprēķināšanas komandu exp un moduļa aprēķināšanas komandu fabs no math bibliotēkas.\n",
    "\n",
    "Importē komandu komandu sleep no time bibliotēkas."
   ]
  },
  {
   "cell_type": "code",
   "execution_count": null,
   "metadata": {},
   "outputs": [],
   "source": [
    "from math import exp, fabs\n",
    "from time import sleep"
   ]
  },
  {
   "cell_type": "markdown",
   "metadata": {},
   "source": [
    "Funkcija ir ar nobīdi par 1 uz leju, lai mākslīgi izveidotu sakni dotajai funkcijai.\n",
    "\n",
    "Dotā funkcija bez nobīdes ir tikai pozitīva un vienīgās saknes atkārtojas ik pēc ${\\pi*n}$, kur n ir vesels skaitlis. Lai rezultāts būtu uzskatāmāks, veicu nobīdi rezultātā par 0.5"
   ]
  },
  {
   "cell_type": "code",
   "execution_count": null,
   "metadata": {},
   "outputs": [],
   "source": [
    "def f(x):\n",
    "    return exp(-x*x)-1"
   ]
  },
  {
   "cell_type": "markdown",
   "metadata": {},
   "source": [
    "Definē skaitļus, ar kuriem tiks noteikts intervāls, kurā meklēs funkcijai saknes."
   ]
  },
  {
   "cell_type": "code",
   "execution_count": null,
   "metadata": {},
   "outputs": [],
   "source": [
    "a = 0\n",
    "b = 1"
   ]
  },
  {
   "cell_type": "markdown",
   "metadata": {},
   "source": [
    "Aprēķina dotās funkcijas vērtības intervāla galapunktos."
   ]
  },
  {
   "cell_type": "code",
   "execution_count": null,
   "metadata": {},
   "outputs": [],
   "source": [
    "funa = f(a)\n",
    "funb = f(b)"
   ]
  },
  {
   "cell_type": "markdown",
   "metadata": {},
   "source": [
    "Nosaka, vai dotajā intervālā funkcijai ir saknes."
   ]
  },
  {
   "cell_type": "code",
   "execution_count": null,
   "metadata": {},
   "outputs": [],
   "source": [
    "if ( funa*funb > 0.0):\n",
    "    print(\"Dotaja intervala [%s, %s] skanju nav\"%(a, b))\n",
    "    sleep(1); exit()\n",
    "else:\n",
    "    print(\"Dotajaa intervaalaa [%s, %s] sakne(s) ir!\"%(a, b))"
   ]
  },
  {
   "cell_type": "markdown",
   "metadata": {},
   "source": [
    "Dotajaa intervaalaa [0, 1] sakne(s) ir!\n",
    "\n",
    "Definē precizitāt, ar kuru meklē dotās funkcijas sakni"
   ]
  },
  {
   "cell_type": "code",
   "execution_count": null,
   "metadata": {},
   "outputs": [],
   "source": [
    "deltax = 0.0001"
   ]
  },
  {
   "cell_type": "markdown",
   "metadata": {},
   "source": [
    "Izmantojot Dihotomijas metodi, tiek meklēta dotās funkcijas sakne.\n",
    "\n",
    "Cikls tiek pildīts, kamēr dotā intervāla galapunktu starpība ir lielāka par doto precizitāti. Ar katru cikla izpildes reizi tiek sašaurināts saknes meklēšanas intervāls un tiek skaitīts, kuru reizi tas tiek pildīts, lai noskaidrotu, cik iterācijas ir vajadzīgas saknes atrašanai dotajā precizitātē.\n",
    "\n",
    "Argumenta vērtība ir intervālu galapunktu summas dalījums ar 2. Šī vērtība tiek ievietota dotajā funkcijā. Ja šīs vērtības reizinājums ar funkcijas vērtību intervāla sākumpunktu ir mazāks par 0., tad jaunais saknes meklēšanas intervāla galapunkts ir argumenta vērtība. Ja lielāks par 0., tad sākumpunkts maina savu vērtību uz argumenta vērtību."
   ]
  },
  {
   "cell_type": "code",
   "execution_count": null,
   "metadata": {},
   "outputs": [],
   "source": [
    "k = 0\n",
    "while ( fabs(b-a) > deltax ):\n",
    "    k = k + 1\n",
    "    x = (a+b)/2; funx = f(x)\n",
    "    if (funa*funx < 0. ):\n",
    "        b = x\n",
    "    else:\n",
    "        a = x"
   ]
  },
  {
   "cell_type": "markdown",
   "metadata": {},
   "source": [
    "Aprēķina funkcijas vērtību bez nobīdes atrastajā saknē."
   ]
  },
  {
   "cell_type": "code",
   "execution_count": null,
   "metadata": {},
   "outputs": [],
   "source": [
    "rf = exp(-x*x)"
   ]
  },
  {
   "cell_type": "markdown",
   "metadata": {},
   "source": [
    "Izprintē iegūto sakni, funkcijas vērtība bez nobīdes šajā punktā un nepieciešamo iterāciju skaits."
   ]
  },
  {
   "cell_type": "code",
   "execution_count": null,
   "metadata": {},
   "outputs": [],
   "source": [
    "print(\"Sakne ir: \", x)\n",
    "print(\"Funkcijas vērtība šajā punktā: \", rf)\n",
    "print(\"Nepieciešamo iterāciju skaits intervālu dalīšanai uz pusēm:\", k)"
   ]
  },
  {
   "cell_type": "markdown",
   "metadata": {},
   "source": [
    "Tiek lietots exp no numpy, jo exp no math nestrādā ar linspace komandas veidotu masīvu.\n",
    "\n",
    "Punktā atzīmēta iepriekš iegūtā sakne. Horizontālā līnija norāda nobīdi(jauno x asi)."
   ]
  },
  {
   "cell_type": "code",
   "execution_count": null,
   "metadata": {},
   "outputs": [],
   "source": [
    "from matplotlib import pyplot as plt\n",
    "from numpy import linspace\n",
    "from numpy import exp"
   ]
  },
  {
   "cell_type": "code",
   "execution_count": null,
   "metadata": {},
   "outputs": [],
   "source": [
    "originalx = x\n",
    "x  = linspace(0,4,21)\n",
    "y = exp(-x*x)+1"
   ]
  },
  {
   "cell_type": "code",
   "execution_count": null,
   "metadata": {},
   "outputs": [],
   "source": [
    "plt.axis([0,3.5,0,1])\n",
    "plt.grid()\n",
    "plt.xlabel(\"x\")\n",
    "plt.ylabel(\"f(x)\")\n",
    "plt.plot(x,y,\"r\")\n",
    "plt.axhline(y = 1)\n",
    "plt.plot(originalx,rf,'ch',markersize = 10)\n",
    "plt.show()"
   ]
  }
 ],
 "metadata": {
  "kernelspec": {
   "display_name": "Python 3",
   "language": "python",
   "name": "python3"
  },
  "language_info": {
   "codemirror_mode": {
    "name": "ipython",
    "version": 3
   },
   "file_extension": ".py",
   "mimetype": "text/x-python",
   "name": "python",
   "nbconvert_exporter": "python",
   "pygments_lexer": "ipython3",
   "version": "3.6.7"
  }
 },
 "nbformat": 4,
 "nbformat_minor": 2
}
