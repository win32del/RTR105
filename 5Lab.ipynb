{
 "cells": [
  {
   "cell_type": "markdown",
   "metadata": {},
   "source": [
    "Funkcija = $e^{-x}^{2}$\n",
    "\n",
    "Importētē komandu random no numpy bibliotēkas, lai iegūtu pēc iespējas nejaušāk atliktus punktus funkcijas laukuma aprēķināšanai."
   ]
  },
  {
   "cell_type": "code",
   "execution_count": null,
   "metadata": {},
   "outputs": [],
   "source": [
    "from numpy import random"
   ]
  },
  {
   "cell_type": "markdown",
   "metadata": {},
   "source": [
    "Nosaka punktu skaitu."
   ]
  },
  {
   "cell_type": "code",
   "execution_count": null,
   "metadata": {},
   "outputs": [],
   "source": [
    "N = 1000"
   ]
  },
  {
   "cell_type": "markdown",
   "metadata": {},
   "source": [
    "Definē skaitļus, ar kuriem definēs intervālus, kuros tiks atlikti punkti."
   ]
  },
  {
   "cell_type": "code",
   "execution_count": null,
   "metadata": {},
   "outputs": [],
   "source": [
    "a = 0\n",
    "b = 5\n",
    "b1 = 2"
   ]
  },
  {
   "cell_type": "markdown",
   "metadata": {},
   "source": [
    "Iegūst punktu x koordinātas."
   ]
  },
  {
   "cell_type": "code",
   "execution_count": null,
   "metadata": {},
   "outputs": [],
   "source": [
    "x = random.uniform(a,b,N)"
   ]
  },
  {
   "cell_type": "markdown",
   "metadata": {},
   "source": [
    "Parāda random.uniform komandas iegūtās x vērtības, sadalot noteikto intervālu 5 mazākos un rēķinot, cik vērtību katrā ietilpst.\n",
    "\n",
    "Ja x < 1, tā ietilpst pirmajā intervālā, k masīva pirmajam skaitlim pieskaita klāt 1. To pašu dara, ja 1 < x < 2, pieskaitot otrajam k masīva skaitlim 1, tā turpinot ar katru intervālu.\n",
    "\n",
    "Cikls beidzas, kad beidzas x vērtību. Tiek izprintēts masīvs."
   ]
  },
  {
   "cell_type": "code",
   "execution_count": null,
   "metadata": {},
   "outputs": [],
   "source": [
    "k = [0, 0, 0, 0, 0]\n",
    "for i in range(N):\n",
    "    if x[i] < 1:\n",
    "        k[0] = k[0] + 1\n",
    "    elif x[i] < 2:\n",
    "        k[1] = k[1] + 1\n",
    "    elif x[i] < 3:\n",
    "        k[2] = k[2] + 1\n",
    "    elif x[i] < 4:\n",
    "        k[3] = k[3] + 1\n",
    "    else:\n",
    "        k[4] = k[4] + 1\n",
    "print(k)"
   ]
  },
  {
   "cell_type": "markdown",
   "metadata": {},
   "source": [
    "Importē eksponentes aprēķināšanas komanda exp no math bibliotēkas."
   ]
  },
  {
   "cell_type": "code",
   "execution_count": null,
   "metadata": {},
   "outputs": [],
   "source": [
    "from math import exp"
   ]
  },
  {
   "cell_type": "markdown",
   "metadata": {},
   "source": [
    "Iegūst nejauši izvēlētas punktu y koordinātes."
   ]
  },
  {
   "cell_type": "code",
   "execution_count": null,
   "metadata": {},
   "outputs": [],
   "source": [
    "y = random.uniform(a,b1,N)"
   ]
  },
  {
   "cell_type": "markdown",
   "metadata": {},
   "source": [
    "Importē grafika zīmēšanas komandu pyplot no matplotlib bibliotēkas. plyplot tiek nodēvēts kā plt."
   ]
  },
  {
   "cell_type": "code",
   "execution_count": null,
   "metadata": {},
   "outputs": [],
   "source": [
    "from matplotlib import pyplot as plt"
   ]
  },
  {
   "cell_type": "markdown",
   "metadata": {},
   "source": [
    "Tiek zīmēts grafiks, izmantojot pyplot.\n",
    "\n",
    "Lai aprēķinātu funkcijas laukumu dotajā intervālā, atliktie punkti tiek iekrāsoti attiecīgi tā, lai tie ietilpst zem funkcijas y=$e^{-x}^{2}$ grafika, vai virs tās. Punkti, kuri atrodas starp x asi un funkcijas grafiku, tiek iekrāsoti zaļi, aprēķinot, vai funkcijas rezultāts pie šī punkta x vērtības ir lielāks par šī punkta y vērtību. Ja y ir lielāks, punkts tiek iekrāsots sarkans.\n",
    "\n",
    "Katrs zaļais punkts tiek uzskaitīts laukuma aprēķināšanai."
   ]
  },
  {
   "cell_type": "code",
   "execution_count": null,
   "metadata": {},
   "outputs": [],
   "source": [
    "plt.grid()\n",
    "plt.xlabel('x')\n",
    "plt.ylabel('y')\n",
    "plt.title('Funkcija un taas integraalis (laukums starp funkciju un x ass)')\n",
    "plt.plot(x,y,'ko')\n",
    "N1 = 0\n",
    "for i in range(N):\n",
    "    if y[i] < exp(-x[i]*x[i]):\n",
    "        plt.plot(x[i],y[i],'go')\n",
    "        N1 = N1 + 1\n",
    "    else:\n",
    "        plt.plot(x[i],y[i],'ro')\n",
    "\n",
    "plt.show()"
   ]
  },
  {
   "cell_type": "markdown",
   "metadata": {},
   "source": []
  }
 ],
 "metadata": {
  "kernelspec": {
   "display_name": "Python 3",
   "language": "python",
   "name": "python3"
  },
  "language_info": {
   "codemirror_mode": {
    "name": "ipython",
    "version": 3
   },
   "file_extension": ".py",
   "mimetype": "text/x-python",
   "name": "python",
   "nbconvert_exporter": "python",
   "pygments_lexer": "ipython3",
   "version": "3.6.7"
  }
 },
 "nbformat": 4,
 "nbformat_minor": 2
}
