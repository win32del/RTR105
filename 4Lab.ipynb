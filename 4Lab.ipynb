{
 "cells": [
  {
   "cell_type": "markdown",
   "metadata": {},
   "source": [
    "Dotā funkcija = $e^{-x}^2$\n",
    "\n",
    "Importē eksponentes aprēķināšanas komandu exp un linspace no numpy bibliotēkas.\n",
    "\n",
    "Importē komandu pyplot no matplotlib bibliotēkas un to nodēvē par plt."
   ]
  },
  {
   "cell_type": "code",
   "execution_count": null,
   "metadata": {},
   "outputs": [],
   "source": [
    "from numpy import exp, linspace\n",
    "from matplotlib import pyplot as plt"
   ]
  },
  {
   "cell_type": "markdown",
   "metadata": {},
   "source": [
    "Definē dotās funkcijas aprēķināšanas komandu, lai butu vieglāku aprakstīt funkciju turpmāk."
   ]
  },
  {
   "cell_type": "code",
   "execution_count": null,
   "metadata": {},
   "outputs": [],
   "source": [
    "def f(x):\n",
    "    return exp(-x*x)"
   ]
  },
  {
   "cell_type": "markdown",
   "metadata": {},
   "source": [
    "Iegūst x un y vērtības.\n",
    "\n",
    "x vērtības iegūst ar linspace komandu, kura izveido virkni ar vienādā attālumā sadalītiem skaitļiem lietotāja noteiktā intervālā un skaitā.\n",
    "\n",
    "y vērtības iegūst, ievietojot iepriekš iegūtās x vērtības iepriekš definētajā komandā, kura aprēķina doto funkciju pie x."
   ]
  },
  {
   "cell_type": "code",
   "execution_count": null,
   "metadata": {},
   "outputs": [],
   "source": [
    "x = linspace(0,6,21)\n",
    "y = f(x)"
   ]
  },
  {
   "cell_type": "markdown",
   "metadata": {},
   "source": [
    "Iegūst vērtības, kas programmā paliek nemainīgas un tiek lietotas vairākkārt.\n",
    "\n",
    "Definē masīvu, kurā tiks uzglabātas pirmās kārtas atvasinājuma vērtības."
   ]
  },
  {
   "cell_type": "code",
   "execution_count": null,
   "metadata": {},
   "outputs": [],
   "source": [
    "dv = []\n",
    "deltax = x[1] - x[0]\n",
    "N = len(x)"
   ]
  },
  {
   "cell_type": "markdown",
   "metadata": {},
   "source": [
    "Cikls aprēķina atvasinājuma vērtību pie katra x masīvā. Iegūtās vērtības tiek ievietotas iepriekš definētajā masīvā atvasinājuma vērtībām.\n",
    "\n",
    "Vērtības aprēķina pēc atvasinājuma definīcijas."
   ]
  },
  {
   "cell_type": "code",
   "execution_count": null,
   "metadata": {},
   "outputs": [],
   "source": [
    "for i in range(N):\n",
    "    temp = (f(x[i] + deltax) - f(x[i])) / deltax\n",
    "    dv.append(temp)"
   ]
  },
  {
   "cell_type": "markdown",
   "metadata": {},
   "source": [
    "Definē masīvu, kurā tiks uzglabātas otrās kārtas atvasinājuma vērtības.\n",
    "\n",
    "Otrās kārtas atvasinājums dotajai funkcijai tiek aprēķināts, izmantojot atvasinājuma aprēķināšanu caur masīvu. Aprēķinot otrās kārtas atvasinājumu, tiek zaudēts viens masīva loceklis, kura dēļ vajadzēs veikt labojumus grafika zīmēšanā."
   ]
  },
  {
   "cell_type": "code",
   "execution_count": null,
   "metadata": {},
   "outputs": [],
   "source": [
    "seconddv = []"
   ]
  },
  {
   "cell_type": "code",
   "execution_count": null,
   "metadata": {},
   "outputs": [],
   "source": [
    "for i in range(N-1):\n",
    "    temp = (dv[i+1] - dv[i]) / deltax\n",
    "    seconddv.append(temp)"
   ]
  },
  {
   "cell_type": "markdown",
   "metadata": {},
   "source": [
    "Definē masīvu, kurā uzglabās grafika elementu apzīmējumu informāciju."
   ]
  },
  {
   "cell_type": "code",
   "execution_count": null,
   "metadata": {},
   "outputs": [],
   "source": [
    "legend = []"
   ]
  },
  {
   "cell_type": "markdown",
   "metadata": {},
   "source": [
    "Zīmē grafiku ar pyplot.\n",
    "\n",
    "Grafika izmērs ir izvēlēts mazāks kā izvēlētās x vērtības, jo, rēķinot otrās kārtas atvasinājumu, tiek pazaudēta viena vērtība. Šādi tiek izlaists posms, kur nav redzami visi 3 funkcijas grafiki."
   ]
  },
  {
   "cell_type": "code",
   "execution_count": null,
   "metadata": {},
   "outputs": [],
   "source": [
    "plt.axis([0,5,-1,1.5])\n",
    "plt.grid()\n",
    "plt.xlabel(\"x\")\n",
    "plt.ylabel(\"f(x)\")\n",
    "plt.title(\"Funkcija $e^(-x)^2$ un taas atvasinaajumi\")\n",
    "plt.plot(x,y,\"k\")\n",
    "legend.append(\"$e^(-x)^2$ - taisnas liinijas\")\n",
    "plt.plot(x,y,\"ro\")\n",
    "legend.append(\"$e^(-x)^2$ - punkti\")\n",
    "plt.plot(x,dv,\"y\")\n",
    "legend.append(\"$e^(-x)^2$ atv. - taisnas linijas\")\n",
    "plt.plot(x,dv,\"go\")\n",
    "legend.append(\"$e^(-x)^2$ atv. - dazhi punkti\")\n",
    "plt.plot(x[0:len(x)-1],seconddv,\"m\")\n",
    "legend.append(\"$e^(-x)^2$ 2.k. atv. - taisnas linijas\")\n",
    "plt.plot(x[0:len(x)-1],seconddv,\"bo\")\n",
    "legend.append(\"$e^(-x)^2$ 2.k. atv. - dazhi punkti\")\n",
    "plt.legend(legend, prop={'size': 8}, loc=3, fancybox=True, framealpha=0.5, facecolor=\"green\")\n",
    "plt.show()"
   ]
  },
  {
   "cell_type": "code",
   "execution_count": null,
   "metadata": {},
   "outputs": [],
   "source": [
    "print(\"linspace komandas veidotais masiivs:\",x)\n",
    "print(\"Funckijas vērtiiba pie x=3 :\",f(3))"
   ]
  }
 ],
 "metadata": {
  "kernelspec": {
   "display_name": "Python 3",
   "language": "python",
   "name": "python3"
  },
  "language_info": {
   "codemirror_mode": {
    "name": "ipython",
    "version": 3
   },
   "file_extension": ".py",
   "mimetype": "text/x-python",
   "name": "python",
   "nbconvert_exporter": "python",
   "pygments_lexer": "ipython3",
   "version": "3.6.7"
  }
 },
 "nbformat": 4,
 "nbformat_minor": 2
}
